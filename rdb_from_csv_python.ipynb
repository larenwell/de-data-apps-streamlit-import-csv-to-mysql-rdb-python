{
 "cells": [
  {
   "cell_type": "code",
   "execution_count": 1,
   "metadata": {},
   "outputs": [
    {
     "name": "stdout",
     "output_type": "stream",
     "text": [
      "Defaulting to user installation because normal site-packages is not writeable\n",
      "Requirement already satisfied: pymysql in /home/laren.osorio/.local/lib/python3.7/site-packages (1.0.2)\n",
      "\u001b[33mWARNING: You are using pip version 21.3.1; however, version 22.3.1 is available.\n",
      "You should consider upgrading via the '/usr/bin/python3.7 -m pip install --upgrade pip' command.\u001b[0m\n"
     ]
    }
   ],
   "source": [
    "!pip install pymysql"
   ]
  },
  {
   "cell_type": "code",
   "execution_count": 2,
   "metadata": {},
   "outputs": [],
   "source": [
    "#Step 1: Import pymysql module\n",
    "#import mysql\n",
    "import pandas as pd\n",
    "import pymysql"
   ]
  },
  {
   "cell_type": "code",
   "execution_count": 3,
   "metadata": {},
   "outputs": [],
   "source": [
    "#Step 2: Define the datasource\n",
    "url_data='data/candidates.csv/'"
   ]
  },
  {
   "cell_type": "code",
   "execution_count": 4,
   "metadata": {},
   "outputs": [],
   "source": [
    "df_candidates= pd.read_csv(url_data+\"candidates.csv\",sep=';')"
   ]
  },
  {
   "cell_type": "code",
   "execution_count": 5,
   "metadata": {},
   "outputs": [
    {
     "data": {
      "text/plain": [
       "First Name                   0\n",
       "Last Name                    0\n",
       "Email                        0\n",
       "Application Date             0\n",
       "Country                      0\n",
       "YOE                          0\n",
       "Seniority                    0\n",
       "Technology                   0\n",
       "Code Challenge Score         0\n",
       "Technical Interview Score    0\n",
       "dtype: int64"
      ]
     },
     "execution_count": 5,
     "metadata": {},
     "output_type": "execute_result"
    }
   ],
   "source": [
    "df_candidates.isnull().sum()"
   ]
  },
  {
   "cell_type": "code",
   "execution_count": 6,
   "metadata": {},
   "outputs": [
    {
     "data": {
      "text/plain": [
       "(50000, 10)"
      ]
     },
     "execution_count": 6,
     "metadata": {},
     "output_type": "execute_result"
    }
   ],
   "source": [
    "df_candidates.shape"
   ]
  },
  {
   "cell_type": "code",
   "execution_count": 7,
   "metadata": {},
   "outputs": [
    {
     "data": {
      "text/html": [
       "<div>\n",
       "<style scoped>\n",
       "    .dataframe tbody tr th:only-of-type {\n",
       "        vertical-align: middle;\n",
       "    }\n",
       "\n",
       "    .dataframe tbody tr th {\n",
       "        vertical-align: top;\n",
       "    }\n",
       "\n",
       "    .dataframe thead th {\n",
       "        text-align: right;\n",
       "    }\n",
       "</style>\n",
       "<table border=\"1\" class=\"dataframe\">\n",
       "  <thead>\n",
       "    <tr style=\"text-align: right;\">\n",
       "      <th></th>\n",
       "      <th>First Name</th>\n",
       "      <th>Last Name</th>\n",
       "      <th>Email</th>\n",
       "      <th>Application Date</th>\n",
       "      <th>Country</th>\n",
       "      <th>YOE</th>\n",
       "      <th>Seniority</th>\n",
       "      <th>Technology</th>\n",
       "      <th>Code Challenge Score</th>\n",
       "      <th>Technical Interview Score</th>\n",
       "    </tr>\n",
       "  </thead>\n",
       "  <tbody>\n",
       "    <tr>\n",
       "      <th>0</th>\n",
       "      <td>Bernadette</td>\n",
       "      <td>Langworth</td>\n",
       "      <td>leonard91@yahoo.com</td>\n",
       "      <td>2021-02-26</td>\n",
       "      <td>Norway</td>\n",
       "      <td>2</td>\n",
       "      <td>Intern</td>\n",
       "      <td>Data Engineer</td>\n",
       "      <td>3</td>\n",
       "      <td>3</td>\n",
       "    </tr>\n",
       "    <tr>\n",
       "      <th>1</th>\n",
       "      <td>Camryn</td>\n",
       "      <td>Reynolds</td>\n",
       "      <td>zelda56@hotmail.com</td>\n",
       "      <td>2021-09-09</td>\n",
       "      <td>Panama</td>\n",
       "      <td>10</td>\n",
       "      <td>Intern</td>\n",
       "      <td>Data Engineer</td>\n",
       "      <td>2</td>\n",
       "      <td>10</td>\n",
       "    </tr>\n",
       "    <tr>\n",
       "      <th>2</th>\n",
       "      <td>Larue</td>\n",
       "      <td>Spinka</td>\n",
       "      <td>okey_schultz41@gmail.com</td>\n",
       "      <td>2020-04-14</td>\n",
       "      <td>Belarus</td>\n",
       "      <td>4</td>\n",
       "      <td>Mid-Level</td>\n",
       "      <td>Client Success</td>\n",
       "      <td>10</td>\n",
       "      <td>9</td>\n",
       "    </tr>\n",
       "    <tr>\n",
       "      <th>3</th>\n",
       "      <td>Arch</td>\n",
       "      <td>Spinka</td>\n",
       "      <td>elvera_kulas@yahoo.com</td>\n",
       "      <td>2020-10-01</td>\n",
       "      <td>Eritrea</td>\n",
       "      <td>25</td>\n",
       "      <td>Trainee</td>\n",
       "      <td>QA Manual</td>\n",
       "      <td>7</td>\n",
       "      <td>1</td>\n",
       "    </tr>\n",
       "    <tr>\n",
       "      <th>4</th>\n",
       "      <td>Larue</td>\n",
       "      <td>Altenwerth</td>\n",
       "      <td>minnie.gislason@gmail.com</td>\n",
       "      <td>2020-05-20</td>\n",
       "      <td>Myanmar</td>\n",
       "      <td>13</td>\n",
       "      <td>Mid-Level</td>\n",
       "      <td>Social Media Community Management</td>\n",
       "      <td>9</td>\n",
       "      <td>7</td>\n",
       "    </tr>\n",
       "  </tbody>\n",
       "</table>\n",
       "</div>"
      ],
      "text/plain": [
       "   First Name   Last Name                      Email Application Date  \\\n",
       "0  Bernadette   Langworth        leonard91@yahoo.com       2021-02-26   \n",
       "1      Camryn    Reynolds        zelda56@hotmail.com       2021-09-09   \n",
       "2       Larue      Spinka   okey_schultz41@gmail.com       2020-04-14   \n",
       "3        Arch      Spinka     elvera_kulas@yahoo.com       2020-10-01   \n",
       "4       Larue  Altenwerth  minnie.gislason@gmail.com       2020-05-20   \n",
       "\n",
       "   Country  YOE  Seniority                         Technology  \\\n",
       "0   Norway    2     Intern                      Data Engineer   \n",
       "1   Panama   10     Intern                      Data Engineer   \n",
       "2  Belarus    4  Mid-Level                     Client Success   \n",
       "3  Eritrea   25    Trainee                          QA Manual   \n",
       "4  Myanmar   13  Mid-Level  Social Media Community Management   \n",
       "\n",
       "   Code Challenge Score  Technical Interview Score  \n",
       "0                     3                          3  \n",
       "1                     2                         10  \n",
       "2                    10                          9  \n",
       "3                     7                          1  \n",
       "4                     9                          7  "
      ]
     },
     "execution_count": 7,
     "metadata": {},
     "output_type": "execute_result"
    }
   ],
   "source": [
    "df_candidates.head(5)"
   ]
  },
  {
   "cell_type": "markdown",
   "metadata": {},
   "source": [
    "# Parte 1"
   ]
  },
  {
   "cell_type": "code",
   "execution_count": 8,
   "metadata": {},
   "outputs": [
    {
     "name": "stdout",
     "output_type": "stream",
     "text": [
      "MySQL Database connection successful\n"
     ]
    }
   ],
   "source": [
    "#Step 3: Create connection a to the MySQL database\n",
    "\n",
    "pw = \"root\"\n",
    "\n",
    "def create_server_connection(host_name, user_name, user_password):\n",
    "    connection = None\n",
    "    try:\n",
    "        connection = pymysql.connect(\n",
    "            host=host_name,\n",
    "            user=user_name,\n",
    "            passwd=user_password\n",
    "        )\n",
    "        print(\"MySQL Database connection successful\")\n",
    "    except ConnectionError as exc:\n",
    "        raise RuntimeError('Failed to create the connection to the server') from exc\n",
    "\n",
    "    return connection\n",
    "\n",
    "connection = create_server_connection(\"localhost\",\"root\", pw)"
   ]
  },
  {
   "cell_type": "code",
   "execution_count": 9,
   "metadata": {},
   "outputs": [
    {
     "name": "stdout",
     "output_type": "stream",
     "text": [
      "Database created successfully\n"
     ]
    }
   ],
   "source": [
    "db = \"db_candidates\"\n",
    "\n",
    "def create_database(connection, query):\n",
    "    cursor = connection.cursor()\n",
    "    try:\n",
    "        cursor.execute(query)\n",
    "        print(\"Database created successfully\")\n",
    "    except ConnectionError as exc:\n",
    "        raise RuntimeError('Failed to create the database') from exc\n",
    "        \n",
    "create_database_query = \"CREATE DATABASE db_candidates\"\n",
    "create_database(connection, create_database_query)"
   ]
  },
  {
   "cell_type": "code",
   "execution_count": 10,
   "metadata": {},
   "outputs": [
    {
     "name": "stdout",
     "output_type": "stream",
     "text": [
      "MySQL Database connection successful\n"
     ]
    }
   ],
   "source": [
    "def create_db_connection(host_name, user_name, user_password, db_name):\n",
    "    connection = None\n",
    "    try:\n",
    "        connection = pymysql.connect(\n",
    "            host=host_name,\n",
    "            user=user_name,\n",
    "            passwd=user_password,\n",
    "            database=db_name\n",
    "        )\n",
    "        print(\"MySQL Database connection successful\")\n",
    "    except ConnectionError as exc:\n",
    "        raise RuntimeError('Failed to create the table') from exc\n",
    "\n",
    "    return connection\n",
    "\n",
    "connection = create_db_connection(\"localhost\",\"root\",pw,db)"
   ]
  },
  {
   "cell_type": "code",
   "execution_count": 11,
   "metadata": {},
   "outputs": [],
   "source": [
    "def execute_query(connection, query):\n",
    "    cursor = connection.cursor()\n",
    "    try:\n",
    "        cursor.execute(query)\n",
    "        connection.commit()\n",
    "        print(\"Query successful\")\n",
    "    except ConnectionError as exc:\n",
    "        raise RuntimeError('Failed to execute query') from exc"
   ]
  },
  {
   "cell_type": "code",
   "execution_count": 12,
   "metadata": {},
   "outputs": [],
   "source": [
    "def execute_list_tuples_query(connection, sql, val):\n",
    "    cursor = connection.cursor()\n",
    "    try:\n",
    "        cursor.executemany(sql, val)\n",
    "        connection.commit()\n",
    "        print(\"Query successful\")\n",
    "    except ConnectionError as exc:\n",
    "        raise RuntimeError('Failed to execute query to insert into the created table') from exc"
   ]
  },
  {
   "cell_type": "code",
   "execution_count": 13,
   "metadata": {},
   "outputs": [
    {
     "name": "stdout",
     "output_type": "stream",
     "text": [
      "MySQL Database connection successful\n",
      "Query successful\n"
     ]
    }
   ],
   "source": [
    "# Assign our SQL command to a python variable using triple quotes to create a multi-line string\n",
    "create_candidates_table = \"\"\"\n",
    "CREATE TABLE tb_candidates (\n",
    "  first_name VARCHAR(100),\n",
    "  last_name VARCHAR(100),\n",
    "  email VARCHAR(100),\n",
    "  application_date DATE,\n",
    "  country VARCHAR(150),\n",
    "  yoe INT,\n",
    "  seniority VARCHAR(100),\n",
    "  technology VARCHAR(100),\n",
    "  code_challenge_score INT,\n",
    "  technical_interview_score INT\n",
    "  );\n",
    " \"\"\"\n",
    "\n",
    "connection = create_db_connection(\"localhost\", \"root\", pw, db) # Connect to the Database\n",
    "execute_query(connection, create_candidates_table) # Execute our defined query"
   ]
  },
  {
   "cell_type": "code",
   "execution_count": 14,
   "metadata": {},
   "outputs": [
    {
     "data": {
      "text/html": [
       "<div>\n",
       "<style scoped>\n",
       "    .dataframe tbody tr th:only-of-type {\n",
       "        vertical-align: middle;\n",
       "    }\n",
       "\n",
       "    .dataframe tbody tr th {\n",
       "        vertical-align: top;\n",
       "    }\n",
       "\n",
       "    .dataframe thead th {\n",
       "        text-align: right;\n",
       "    }\n",
       "</style>\n",
       "<table border=\"1\" class=\"dataframe\">\n",
       "  <thead>\n",
       "    <tr style=\"text-align: right;\">\n",
       "      <th></th>\n",
       "      <th>First Name</th>\n",
       "      <th>Last Name</th>\n",
       "      <th>Email</th>\n",
       "      <th>Application Date</th>\n",
       "      <th>Country</th>\n",
       "      <th>YOE</th>\n",
       "      <th>Seniority</th>\n",
       "      <th>Technology</th>\n",
       "      <th>Code Challenge Score</th>\n",
       "      <th>Technical Interview Score</th>\n",
       "    </tr>\n",
       "  </thead>\n",
       "  <tbody>\n",
       "    <tr>\n",
       "      <th>0</th>\n",
       "      <td>Bernadette</td>\n",
       "      <td>Langworth</td>\n",
       "      <td>leonard91@yahoo.com</td>\n",
       "      <td>2021-02-26</td>\n",
       "      <td>Norway</td>\n",
       "      <td>2</td>\n",
       "      <td>Intern</td>\n",
       "      <td>Data Engineer</td>\n",
       "      <td>3</td>\n",
       "      <td>3</td>\n",
       "    </tr>\n",
       "    <tr>\n",
       "      <th>1</th>\n",
       "      <td>Camryn</td>\n",
       "      <td>Reynolds</td>\n",
       "      <td>zelda56@hotmail.com</td>\n",
       "      <td>2021-09-09</td>\n",
       "      <td>Panama</td>\n",
       "      <td>10</td>\n",
       "      <td>Intern</td>\n",
       "      <td>Data Engineer</td>\n",
       "      <td>2</td>\n",
       "      <td>10</td>\n",
       "    </tr>\n",
       "    <tr>\n",
       "      <th>2</th>\n",
       "      <td>Larue</td>\n",
       "      <td>Spinka</td>\n",
       "      <td>okey_schultz41@gmail.com</td>\n",
       "      <td>2020-04-14</td>\n",
       "      <td>Belarus</td>\n",
       "      <td>4</td>\n",
       "      <td>Mid-Level</td>\n",
       "      <td>Client Success</td>\n",
       "      <td>10</td>\n",
       "      <td>9</td>\n",
       "    </tr>\n",
       "    <tr>\n",
       "      <th>3</th>\n",
       "      <td>Arch</td>\n",
       "      <td>Spinka</td>\n",
       "      <td>elvera_kulas@yahoo.com</td>\n",
       "      <td>2020-10-01</td>\n",
       "      <td>Eritrea</td>\n",
       "      <td>25</td>\n",
       "      <td>Trainee</td>\n",
       "      <td>QA Manual</td>\n",
       "      <td>7</td>\n",
       "      <td>1</td>\n",
       "    </tr>\n",
       "    <tr>\n",
       "      <th>4</th>\n",
       "      <td>Larue</td>\n",
       "      <td>Altenwerth</td>\n",
       "      <td>minnie.gislason@gmail.com</td>\n",
       "      <td>2020-05-20</td>\n",
       "      <td>Myanmar</td>\n",
       "      <td>13</td>\n",
       "      <td>Mid-Level</td>\n",
       "      <td>Social Media Community Management</td>\n",
       "      <td>9</td>\n",
       "      <td>7</td>\n",
       "    </tr>\n",
       "  </tbody>\n",
       "</table>\n",
       "</div>"
      ],
      "text/plain": [
       "   First Name   Last Name                      Email Application Date  \\\n",
       "0  Bernadette   Langworth        leonard91@yahoo.com       2021-02-26   \n",
       "1      Camryn    Reynolds        zelda56@hotmail.com       2021-09-09   \n",
       "2       Larue      Spinka   okey_schultz41@gmail.com       2020-04-14   \n",
       "3        Arch      Spinka     elvera_kulas@yahoo.com       2020-10-01   \n",
       "4       Larue  Altenwerth  minnie.gislason@gmail.com       2020-05-20   \n",
       "\n",
       "   Country  YOE  Seniority                         Technology  \\\n",
       "0   Norway    2     Intern                      Data Engineer   \n",
       "1   Panama   10     Intern                      Data Engineer   \n",
       "2  Belarus    4  Mid-Level                     Client Success   \n",
       "3  Eritrea   25    Trainee                          QA Manual   \n",
       "4  Myanmar   13  Mid-Level  Social Media Community Management   \n",
       "\n",
       "   Code Challenge Score  Technical Interview Score  \n",
       "0                     3                          3  \n",
       "1                     2                         10  \n",
       "2                    10                          9  \n",
       "3                     7                          1  \n",
       "4                     9                          7  "
      ]
     },
     "execution_count": 14,
     "metadata": {},
     "output_type": "execute_result"
    }
   ],
   "source": [
    "df_candidates.head(5)"
   ]
  },
  {
   "cell_type": "code",
   "execution_count": 15,
   "metadata": {},
   "outputs": [],
   "source": [
    "val=list(df_candidates.itertuples(index=False,name=None))"
   ]
  },
  {
   "cell_type": "code",
   "execution_count": 16,
   "metadata": {},
   "outputs": [
    {
     "data": {
      "text/plain": [
       "[('Bernadette',\n",
       "  'Langworth',\n",
       "  'leonard91@yahoo.com',\n",
       "  '2021-02-26',\n",
       "  'Norway',\n",
       "  2,\n",
       "  'Intern',\n",
       "  'Data Engineer',\n",
       "  3,\n",
       "  3),\n",
       " ('Camryn',\n",
       "  'Reynolds',\n",
       "  'zelda56@hotmail.com',\n",
       "  '2021-09-09',\n",
       "  'Panama',\n",
       "  10,\n",
       "  'Intern',\n",
       "  'Data Engineer',\n",
       "  2,\n",
       "  10)]"
      ]
     },
     "execution_count": 16,
     "metadata": {},
     "output_type": "execute_result"
    }
   ],
   "source": [
    "val[0:2]"
   ]
  },
  {
   "cell_type": "code",
   "execution_count": 18,
   "metadata": {},
   "outputs": [
    {
     "name": "stdout",
     "output_type": "stream",
     "text": [
      "MySQL Database connection successful\n",
      "Query successful\n"
     ]
    }
   ],
   "source": [
    "sql = '''\n",
    "    INSERT INTO tb_candidates (first_name, last_name, email, application_date, country, yoe, seniority, technology,code_challenge_score,technical_interview_score) \n",
    "    VALUES (%s, %s, %s, %s, %s, %s, %s, %s, %s, %s);\n",
    "    '''\n",
    "connection = create_db_connection(\"localhost\", \"root\", pw, db)\n",
    "execute_list_tuples_query(connection, sql, val)"
   ]
  },
  {
   "cell_type": "markdown",
   "metadata": {},
   "source": [
    "# Parte 2"
   ]
  },
  {
   "cell_type": "code",
   "execution_count": null,
   "metadata": {},
   "outputs": [],
   "source": [
    "# Seaborn\n",
    "# df_visualizacion=#execute_query para traer datos de la tabla"
   ]
  },
  {
   "cell_type": "raw",
   "metadata": {},
   "source": [
    "mysql -u root -proot -h localhost -P 3306 db_candidates\n",
    "\n",
    "CREATE TABLE db_candidates.tb_hired_report\n",
    "SELECT\n",
    "technology,\n",
    "seniority,\n",
    "country,\n",
    "year(application_date) as year_application,\n",
    "case\n",
    "when code_challenge_score>=7 and technical_interview_score>=7 THEN 'Hired'\n",
    "else 'No Hired'\n",
    "END\n",
    "AS status_cantidate,\n",
    "COUNT(first_name) AS number_of_hired\n",
    "FROM db_candidates.tb_candidates\n",
    "GROUP BY\n",
    "technology, seniority, country,\n",
    "year_application,\n",
    "status_cantidate;\n",
    "\n",
    "select*from db_candidates.tb_hired_report limit 5;"
   ]
  },
  {
   "cell_type": "markdown",
   "metadata": {},
   "source": [
    "# Parte 3"
   ]
  },
  {
   "cell_type": "code",
   "execution_count": null,
   "metadata": {},
   "outputs": [],
   "source": [
    "!pip install streamlit"
   ]
  },
  {
   "cell_type": "raw",
   "metadata": {},
   "source": [
    "Defaulting to user installation because normal site-packages is not writeable\n",
    "Collecting streamlit\n",
    "  Downloading streamlit-1.15.1-py2.py3-none-any.whl (10.3 MB)\n",
    "     |████████████████████████████████| 10.3 MB 1.6 MB/s            \n",
    "Collecting toml\n",
    "  Using cached toml-0.10.2-py2.py3-none-any.whl (16 kB)\n",
    "Collecting validators>=0.2\n",
    "  Downloading validators-0.20.0.tar.gz (30 kB)\n",
    "  Preparing metadata (setup.py) ... done\n",
    "Collecting altair>=3.2.0\n",
    "  Downloading altair-4.2.0-py3-none-any.whl (812 kB)\n",
    "     |████████████████████████████████| 812 kB 1.7 MB/s            \n",
    "Requirement already satisfied: gitpython!=3.1.19 in /home/laren.osorio/.local/lib/python3.7/site-packages (from streamlit) (3.1.29)\n",
    "Collecting tzlocal>=1.1\n",
    "  Downloading tzlocal-4.2-py3-none-any.whl (19 kB)\n",
    "Requirement already satisfied: packaging>=14.1 in /home/laren.osorio/.local/lib/python3.7/site-packages (from streamlit) (21.3)\n",
    "Requirement already satisfied: typing-extensions>=3.10.0.0 in /home/laren.osorio/.local/lib/python3.7/site-packages (from streamlit) (4.4.0)\n",
    "Collecting pydeck>=0.1.dev5\n",
    "  Downloading pydeck-0.8.0-py2.py3-none-any.whl (4.7 MB)\n",
    "     |████████████████████████████████| 4.7 MB 2.3 MB/s            \n",
    "Requirement already satisfied: requests>=2.4 in /home/laren.osorio/.local/lib/python3.7/site-packages (from streamlit) (2.28.1)\n",
    "Collecting semver\n",
    "  Downloading semver-2.13.0-py2.py3-none-any.whl (12 kB)\n",
    "Requirement already satisfied: click>=7.0 in /home/laren.osorio/.local/lib/python3.7/site-packages (from streamlit) (8.1.3)\n",
    "Collecting cachetools>=4.0\n",
    "  Downloading cachetools-5.2.0-py3-none-any.whl (9.3 kB)\n",
    "Requirement already satisfied: pandas>=0.21.0 in /home/laren.osorio/.local/lib/python3.7/site-packages (from streamlit) (1.3.5)\n",
    "Collecting blinker>=1.0.0\n",
    "  Downloading blinker-1.5-py2.py3-none-any.whl (12 kB)\n",
    "Collecting watchdog\n",
    "  Downloading watchdog-2.1.9-py3-none-manylinux2014_x86_64.whl (78 kB)\n",
    "     |████████████████████████████████| 78 kB 1.4 MB/s            \n",
    "Requirement already satisfied: numpy in /home/laren.osorio/.local/lib/python3.7/site-packages (from streamlit) (1.21.6)\n",
    "Collecting pyarrow>=4.0\n",
    "  Downloading pyarrow-10.0.1-cp37-cp37m-manylinux_2_17_x86_64.manylinux2014_x86_64.whl (36.0 MB)\n",
    "     |████████████████████████████████| 36.0 MB 1.7 MB/s            \n",
    "Requirement already satisfied: importlib-metadata>=1.4 in /home/laren.osorio/.local/lib/python3.7/site-packages (from streamlit) (5.0.0)\n",
    "Collecting pympler>=0.9\n",
    "  Downloading Pympler-1.0.1-py3-none-any.whl (164 kB)\n",
    "     |████████████████████████████████| 164 kB 2.4 MB/s            \n",
    "Collecting protobuf<4,>=3.12\n",
    "  Downloading protobuf-3.20.3-cp37-cp37m-manylinux_2_5_x86_64.manylinux1_x86_64.whl (1.0 MB)\n",
    "     |████████████████████████████████| 1.0 MB 2.3 MB/s            \n",
    "Requirement already satisfied: pillow>=6.2.0 in /home/laren.osorio/.local/lib/python3.7/site-packages (from streamlit) (9.1.0)\n",
    "Requirement already satisfied: python-dateutil in /home/laren.osorio/.local/lib/python3.7/site-packages (from streamlit) (2.8.2)\n",
    "Requirement already satisfied: tornado>=5.0 in /home/laren.osorio/.local/lib/python3.7/site-packages (from streamlit) (6.1)\n",
    "Collecting rich>=10.11.0\n",
    "  Downloading rich-12.6.0-py3-none-any.whl (237 kB)\n",
    "     |████████████████████████████████| 237 kB 2.5 MB/s            \n",
    "Requirement already satisfied: entrypoints in /home/laren.osorio/.local/lib/python3.7/site-packages (from altair>=3.2.0->streamlit) (0.4)\n",
    "Requirement already satisfied: jinja2 in /home/laren.osorio/.local/lib/python3.7/site-packages (from altair>=3.2.0->streamlit) (3.0.3)\n",
    "Requirement already satisfied: jsonschema>=3.0 in /home/laren.osorio/.local/lib/python3.7/site-packages (from altair>=3.2.0->streamlit) (4.4.0)\n",
    "Collecting toolz\n",
    "  Downloading toolz-0.12.0-py3-none-any.whl (55 kB)\n",
    "     |████████████████████████████████| 55 kB 1.7 MB/s            \n",
    "Requirement already satisfied: gitdb<5,>=4.0.1 in /home/laren.osorio/.local/lib/python3.7/site-packages (from gitpython!=3.1.19->streamlit) (4.0.9)\n",
    "Requirement already satisfied: zipp>=0.5 in /home/laren.osorio/.local/lib/python3.7/site-packages (from importlib-metadata>=1.4->streamlit) (3.7.0)\n",
    "Requirement already satisfied: pyparsing!=3.0.5,>=2.0.2 in /home/laren.osorio/.local/lib/python3.7/site-packages (from packaging>=14.1->streamlit) (3.0.8)\n",
    "Requirement already satisfied: pytz>=2017.3 in /home/laren.osorio/.local/lib/python3.7/site-packages (from pandas>=0.21.0->streamlit) (2022.1)\n",
    "Requirement already satisfied: six>=1.5 in /home/laren.osorio/.local/lib/python3.7/site-packages (from python-dateutil->streamlit) (1.16.0)\n",
    "Requirement already satisfied: certifi>=2017.4.17 in /home/laren.osorio/.local/lib/python3.7/site-packages (from requests>=2.4->streamlit) (2021.10.8)\n",
    "Requirement already satisfied: charset-normalizer<3,>=2 in /home/laren.osorio/.local/lib/python3.7/site-packages (from requests>=2.4->streamlit) (2.1.1)\n",
    "Requirement already satisfied: urllib3<1.27,>=1.21.1 in /home/laren.osorio/.local/lib/python3.7/site-packages (from requests>=2.4->streamlit) (1.26.12)\n",
    "Requirement already satisfied: idna<4,>=2.5 in /home/laren.osorio/.local/lib/python3.7/site-packages (from requests>=2.4->streamlit) (3.3)\n",
    "Collecting commonmark<0.10.0,>=0.9.0\n",
    "  Downloading commonmark-0.9.1-py2.py3-none-any.whl (51 kB)\n",
    "     |████████████████████████████████| 51 kB 462 kB/s            \n",
    "Requirement already satisfied: pygments<3.0.0,>=2.6.0 in /home/laren.osorio/.local/lib/python3.7/site-packages (from rich>=10.11.0->streamlit) (2.11.2)\n",
    "Collecting pytz-deprecation-shim\n",
    "  Downloading pytz_deprecation_shim-0.1.0.post0-py2.py3-none-any.whl (15 kB)\n",
    "Collecting backports.zoneinfo\n",
    "  Downloading backports.zoneinfo-0.2.1-cp37-cp37m-manylinux1_x86_64.whl (70 kB)\n",
    "     |████████████████████████████████| 70 kB 1.9 MB/s            \n",
    "Requirement already satisfied: decorator>=3.4.0 in /usr/lib/python3/dist-packages (from validators>=0.2->streamlit) (4.1.2)\n",
    "Requirement already satisfied: smmap<6,>=3.0.1 in /home/laren.osorio/.local/lib/python3.7/site-packages (from gitdb<5,>=4.0.1->gitpython!=3.1.19->streamlit) (5.0.0)\n",
    "Requirement already satisfied: MarkupSafe>=2.0 in /home/laren.osorio/.local/lib/python3.7/site-packages (from jinja2->altair>=3.2.0->streamlit) (2.1.1)\n",
    "Requirement already satisfied: attrs>=17.4.0 in /home/laren.osorio/.local/lib/python3.7/site-packages (from jsonschema>=3.0->altair>=3.2.0->streamlit) (22.1.0)\n",
    "Requirement already satisfied: pyrsistent!=0.17.0,!=0.17.1,!=0.17.2,>=0.14.0 in /home/laren.osorio/.local/lib/python3.7/site-packages (from jsonschema>=3.0->altair>=3.2.0->streamlit) (0.18.1)\n",
    "Requirement already satisfied: importlib-resources>=1.4.0 in /home/laren.osorio/.local/lib/python3.7/site-packages (from jsonschema>=3.0->altair>=3.2.0->streamlit) (5.4.0)\n",
    "Collecting tzdata\n",
    "  Downloading tzdata-2022.6-py2.py3-none-any.whl (338 kB)\n",
    "     |████████████████████████████████| 338 kB 2.5 MB/s            \n",
    "Building wheels for collected packages: validators\n",
    "  Building wheel for validators (setup.py) ... done\n",
    "  Created wheel for validators: filename=validators-0.20.0-py3-none-any.whl size=19827 sha256=c42f95bb5a3cf86e913e099dfe14081223e711b403dab00321332c1d6705e64b\n",
    "  Stored in directory: /home/laren.osorio/.cache/pip/wheels/5f/55/ab/36a76989f7f88d9ca7b1f68da6d94252bb6a8d6ad4f18e04e9\n",
    "Successfully built validators\n",
    "Installing collected packages: tzdata, backports.zoneinfo, toolz, pytz-deprecation-shim, commonmark, watchdog, validators, tzlocal, toml, semver, rich, pympler, pydeck, pyarrow, protobuf, cachetools, blinker, altair, streamlit\n",
    "  Attempting uninstall: protobuf\n",
    "    Found existing installation: protobuf 4.21.9\n",
    "    Uninstalling protobuf-4.21.9:\n",
    "      Successfully uninstalled protobuf-4.21.9\n",
    "Successfully installed altair-4.2.0 backports.zoneinfo-0.2.1 blinker-1.5 cachetools-5.2.0 commonmark-0.9.1 protobuf-3.20.3 pyarrow-10.0.1 pydeck-0.8.0 pympler-1.0.1 pytz-deprecation-shim-0.1.0.post0 rich-12.6.0 semver-2.13.0 streamlit-1.15.1 toml-0.10.2 toolz-0.12.0 tzdata-2022.6 tzlocal-4.2 validators-0.20.0 watchdog-2.1.9\n",
    "WARNING: You are using pip version 21.3.1; however, version 22.3.1 is available.\n",
    "You should consider upgrading via the '/usr/bin/python3.7 -m pip install --upgrade pip' command."
   ]
  },
  {
   "cell_type": "code",
   "execution_count": 19,
   "metadata": {},
   "outputs": [],
   "source": [
    "q1 = 'SELECT * FROM db_candidates.tb_hired_report'"
   ]
  },
  {
   "cell_type": "code",
   "execution_count": 20,
   "metadata": {},
   "outputs": [],
   "source": [
    "def read_df1():\n",
    "  df1 = pd.read_sql_query(q1, connection)\n",
    "  return df1"
   ]
  },
  {
   "cell_type": "code",
   "execution_count": 21,
   "metadata": {},
   "outputs": [
    {
     "data": {
      "text/html": [
       "<div>\n",
       "<style scoped>\n",
       "    .dataframe tbody tr th:only-of-type {\n",
       "        vertical-align: middle;\n",
       "    }\n",
       "\n",
       "    .dataframe tbody tr th {\n",
       "        vertical-align: top;\n",
       "    }\n",
       "\n",
       "    .dataframe thead th {\n",
       "        text-align: right;\n",
       "    }\n",
       "</style>\n",
       "<table border=\"1\" class=\"dataframe\">\n",
       "  <thead>\n",
       "    <tr style=\"text-align: right;\">\n",
       "      <th></th>\n",
       "      <th>technology</th>\n",
       "      <th>seniority</th>\n",
       "      <th>country</th>\n",
       "      <th>year_application</th>\n",
       "      <th>status_cantidate</th>\n",
       "      <th>number_of_hired</th>\n",
       "    </tr>\n",
       "  </thead>\n",
       "  <tbody>\n",
       "    <tr>\n",
       "      <th>0</th>\n",
       "      <td>Adobe Experience Manager</td>\n",
       "      <td>Architect</td>\n",
       "      <td>Albania</td>\n",
       "      <td>2019</td>\n",
       "      <td>No Hired</td>\n",
       "      <td>1</td>\n",
       "    </tr>\n",
       "    <tr>\n",
       "      <th>1</th>\n",
       "      <td>Adobe Experience Manager</td>\n",
       "      <td>Architect</td>\n",
       "      <td>Albania</td>\n",
       "      <td>2020</td>\n",
       "      <td>No Hired</td>\n",
       "      <td>1</td>\n",
       "    </tr>\n",
       "    <tr>\n",
       "      <th>2</th>\n",
       "      <td>Adobe Experience Manager</td>\n",
       "      <td>Architect</td>\n",
       "      <td>Algeria</td>\n",
       "      <td>2018</td>\n",
       "      <td>Hired</td>\n",
       "      <td>1</td>\n",
       "    </tr>\n",
       "    <tr>\n",
       "      <th>3</th>\n",
       "      <td>Adobe Experience Manager</td>\n",
       "      <td>Architect</td>\n",
       "      <td>Algeria</td>\n",
       "      <td>2019</td>\n",
       "      <td>No Hired</td>\n",
       "      <td>1</td>\n",
       "    </tr>\n",
       "    <tr>\n",
       "      <th>4</th>\n",
       "      <td>Adobe Experience Manager</td>\n",
       "      <td>Architect</td>\n",
       "      <td>Algeria</td>\n",
       "      <td>2020</td>\n",
       "      <td>No Hired</td>\n",
       "      <td>1</td>\n",
       "    </tr>\n",
       "    <tr>\n",
       "      <th>...</th>\n",
       "      <td>...</td>\n",
       "      <td>...</td>\n",
       "      <td>...</td>\n",
       "      <td>...</td>\n",
       "      <td>...</td>\n",
       "      <td>...</td>\n",
       "    </tr>\n",
       "    <tr>\n",
       "      <th>45191</th>\n",
       "      <td>Technical Writing</td>\n",
       "      <td>Trainee</td>\n",
       "      <td>Vietnam</td>\n",
       "      <td>2018</td>\n",
       "      <td>No Hired</td>\n",
       "      <td>1</td>\n",
       "    </tr>\n",
       "    <tr>\n",
       "      <th>45192</th>\n",
       "      <td>Technical Writing</td>\n",
       "      <td>Trainee</td>\n",
       "      <td>Vietnam</td>\n",
       "      <td>2021</td>\n",
       "      <td>No Hired</td>\n",
       "      <td>1</td>\n",
       "    </tr>\n",
       "    <tr>\n",
       "      <th>45193</th>\n",
       "      <td>Technical Writing</td>\n",
       "      <td>Trainee</td>\n",
       "      <td>Virgin Islands U.S.</td>\n",
       "      <td>2019</td>\n",
       "      <td>No Hired</td>\n",
       "      <td>2</td>\n",
       "    </tr>\n",
       "    <tr>\n",
       "      <th>45194</th>\n",
       "      <td>Technical Writing</td>\n",
       "      <td>Trainee</td>\n",
       "      <td>Wallis and Futuna</td>\n",
       "      <td>2019</td>\n",
       "      <td>No Hired</td>\n",
       "      <td>1</td>\n",
       "    </tr>\n",
       "    <tr>\n",
       "      <th>45195</th>\n",
       "      <td>Technical Writing</td>\n",
       "      <td>Trainee</td>\n",
       "      <td>Yemen</td>\n",
       "      <td>2020</td>\n",
       "      <td>No Hired</td>\n",
       "      <td>1</td>\n",
       "    </tr>\n",
       "  </tbody>\n",
       "</table>\n",
       "<p>45196 rows × 6 columns</p>\n",
       "</div>"
      ],
      "text/plain": [
       "                     technology  seniority              country  \\\n",
       "0      Adobe Experience Manager  Architect              Albania   \n",
       "1      Adobe Experience Manager  Architect              Albania   \n",
       "2      Adobe Experience Manager  Architect              Algeria   \n",
       "3      Adobe Experience Manager  Architect              Algeria   \n",
       "4      Adobe Experience Manager  Architect              Algeria   \n",
       "...                         ...        ...                  ...   \n",
       "45191         Technical Writing    Trainee              Vietnam   \n",
       "45192         Technical Writing    Trainee              Vietnam   \n",
       "45193         Technical Writing    Trainee  Virgin Islands U.S.   \n",
       "45194         Technical Writing    Trainee    Wallis and Futuna   \n",
       "45195         Technical Writing    Trainee                Yemen   \n",
       "\n",
       "       year_application status_cantidate  number_of_hired  \n",
       "0                  2019         No Hired                1  \n",
       "1                  2020         No Hired                1  \n",
       "2                  2018            Hired                1  \n",
       "3                  2019         No Hired                1  \n",
       "4                  2020         No Hired                1  \n",
       "...                 ...              ...              ...  \n",
       "45191              2018         No Hired                1  \n",
       "45192              2021         No Hired                1  \n",
       "45193              2019         No Hired                2  \n",
       "45194              2019         No Hired                1  \n",
       "45195              2020         No Hired                1  \n",
       "\n",
       "[45196 rows x 6 columns]"
      ]
     },
     "execution_count": 21,
     "metadata": {},
     "output_type": "execute_result"
    }
   ],
   "source": [
    "read_df1()"
   ]
  },
  {
   "cell_type": "raw",
   "metadata": {},
   "source": []
  },
  {
   "cell_type": "code",
   "execution_count": null,
   "metadata": {},
   "outputs": [],
   "source": [
    "# Emplear\n",
    "import streamlit as st\n",
    "#import mysql.connector\n",
    "\n",
    "# Initialize connection.\n",
    "# Uses st.experimental_singleton to only run once.\n",
    "#@st.experimental_singleton\n",
    "#def init_connection():\n",
    "#    return mysql.connector.connect(**st.secrets[\"mysql\"])\n",
    "\n",
    "#conn = init_connection()\n",
    "\n",
    "# Perform query.\n",
    "# Uses st.experimental_memo to only rerun when the query changes or after 10 min.\n",
    "@st.experimental_memo(ttl=600)\n",
    "def run_query(query):\n",
    "    with connection.cursor() as cur:\n",
    "        cur.execute(query)\n",
    "        return cur.fetchall()\n",
    "\n",
    "rows = run_query(\"SELECT * from hired_report;\")\n",
    "\n",
    "# Print results.\n",
    "for row in rows:\n",
    "    st.write(f\"{row[0]} has a :{row[1]}:\")"
   ]
  },
  {
   "cell_type": "code",
   "execution_count": null,
   "metadata": {},
   "outputs": [],
   "source": [
    "streamlit run /home/laren.osorio/.local/lib/python3.7/site-packages/ipykernel_launcher.py rdb_from_csv_python"
   ]
  },
  {
   "cell_type": "markdown",
   "metadata": {},
   "source": [
    "# Parte 4"
   ]
  },
  {
   "cell_type": "code",
   "execution_count": null,
   "metadata": {},
   "outputs": [],
   "source": [
    "# LLevarlo a un entorno de Desarrollo"
   ]
  },
  {
   "cell_type": "markdown",
   "metadata": {},
   "source": [
    "# Referencias\n",
    "\n",
    "[1](https://www.freecodecamp.org/news/connect-python-with-sql/)\n",
    "[mysqldb](https://github.com/thecraigd/Python_SQL/blob/master/mysql.ipynb)   [streamlit](https://docs.streamlit.io/knowledge-base/tutorials/databases/mysql)"
   ]
  },
  {
   "cell_type": "code",
   "execution_count": null,
   "metadata": {},
   "outputs": [],
   "source": []
  }
 ],
 "metadata": {
  "kernelspec": {
   "display_name": "Python 3 (ipykernel)",
   "language": "python",
   "name": "python3"
  },
  "language_info": {
   "codemirror_mode": {
    "name": "ipython",
    "version": 3
   },
   "file_extension": ".py",
   "mimetype": "text/x-python",
   "name": "python",
   "nbconvert_exporter": "python",
   "pygments_lexer": "ipython3",
   "version": "3.7.13"
  }
 },
 "nbformat": 4,
 "nbformat_minor": 2
}
